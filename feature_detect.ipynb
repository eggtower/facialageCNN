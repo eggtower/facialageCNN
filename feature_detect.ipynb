{
 "cells": [
  {
   "cell_type": "code",
   "execution_count": 2,
   "metadata": {},
   "outputs": [],
   "source": [
    "import cv2\n",
    "from glob import glob"
   ]
  },
  {
   "cell_type": "code",
   "execution_count": 4,
   "metadata": {},
   "outputs": [
    {
     "name": "stdout",
     "output_type": "stream",
     "text": [
      "['UTKFace\\\\100_0_0_20170112213500903.jpg.chip.jpg', 'UTKFace\\\\100_0_0_20170112215240346.jpg.chip.jpg', 'UTKFace\\\\100_1_0_20170110183726390.jpg.chip.jpg', 'UTKFace\\\\100_1_0_20170112213001988.jpg.chip.jpg', 'UTKFace\\\\100_1_0_20170112213303693.jpg.chip.jpg', 'UTKFace\\\\100_1_0_20170112215032192.jpg.chip.jpg', 'UTKFace\\\\100_1_0_20170117195420803.jpg.chip.jpg', 'UTKFace\\\\100_1_0_20170119212053665.jpg.chip.jpg', 'UTKFace\\\\100_1_2_20170105174847679.jpg.chip.jpg', 'UTKFace\\\\100_1_2_20170112213615815.jpg.chip.jpg', 'UTKFace\\\\100_1_2_20170112222336458.jpg.chip.jpg', 'UTKFace\\\\101_0_0_20170112213500903.jpg.chip.jpg', 'UTKFace\\\\101_1_2_20170105174739309.jpg.chip.jpg', 'UTKFace\\\\103_0_2_20170112213001988.jpg.chip.jpg', 'UTKFace\\\\105_0_0_20170112213001988.jpg.chip.jpg', 'UTKFace\\\\105_1_0_20170112213001988.jpg.chip.jpg', 'UTKFace\\\\105_1_0_20170112213021902.jpg.chip.jpg', 'UTKFace\\\\105_1_0_20170112213507183.jpg.chip.jpg', 'UTKFace\\\\105_1_1_20170112213303693.jpg.chip.jpg', 'UTKFace\\\\10_0_0_20161220222308131.jpg.chip.jpg', 'UTKFace\\\\10_0_0_20170103200329407.jpg.chip.jpg', 'UTKFace\\\\10_0_0_20170103200522151.jpg.chip.jpg', 'UTKFace\\\\10_0_0_20170103233459275.jpg.chip.jpg', 'UTKFace\\\\10_0_0_20170104013211746.jpg.chip.jpg', 'UTKFace\\\\10_0_0_20170110215927291.jpg.chip.jpg', 'UTKFace\\\\10_0_0_20170110220033115.jpg.chip.jpg', 'UTKFace\\\\10_0_0_20170110220111082.jpg.chip.jpg', 'UTKFace\\\\10_0_0_20170110220235233.jpg.chip.jpg', 'UTKFace\\\\10_0_0_20170110220251986.jpg.chip.jpg', 'UTKFace\\\\10_0_0_20170110220255346.jpg.chip.jpg', 'UTKFace\\\\10_0_0_20170110220316298.jpg.chip.jpg', 'UTKFace\\\\10_0_0_20170110220403810.jpg.chip.jpg', 'UTKFace\\\\10_0_0_20170110220447314.jpg.chip.jpg', 'UTKFace\\\\10_0_0_20170110220503946.jpg.chip.jpg', 'UTKFace\\\\10_0_0_20170110220514186.jpg.chip.jpg', 'UTKFace\\\\10_0_0_20170110220530650.jpg.chip.jpg', 'UTKFace\\\\10_0_0_20170110220539329.jpg.chip.jpg', 'UTKFace\\\\10_0_0_20170110220541850.jpg.chip.jpg', 'UTKFace\\\\10_0_0_20170110220546177.jpg.chip.jpg', 'UTKFace\\\\10_0_0_20170110220548521.jpg.chip.jpg', 'UTKFace\\\\10_0_0_20170110220557169.jpg.chip.jpg', 'UTKFace\\\\10_0_0_20170110220644705.jpg.chip.jpg', 'UTKFace\\\\10_0_0_20170110220654150.jpg.chip.jpg', 'UTKFace\\\\10_0_0_20170110221714752.jpg.chip.jpg', 'UTKFace\\\\10_0_0_20170110221719390.jpg.chip.jpg', 'UTKFace\\\\10_0_0_20170110221811823.jpg.chip.jpg', 'UTKFace\\\\10_0_0_20170110224223937.jpg.chip.jpg', 'UTKFace\\\\10_0_0_20170110224238891.jpg.chip.jpg', 'UTKFace\\\\10_0_0_20170110224253445.jpg.chip.jpg', 'UTKFace\\\\10_0_0_20170110224255796.jpg.chip.jpg', 'UTKFace\\\\10_0_0_20170110224402264.jpg.chip.jpg', 'UTKFace\\\\10_0_0_20170110224406532.jpg.chip.jpg', 'UTKFace\\\\10_0_0_20170110224416035.jpg.chip.jpg', 'UTKFace\\\\10_0_0_20170110224500062.jpg.chip.jpg', 'UTKFace\\\\10_0_0_20170110224524253.jpg.chip.jpg', 'UTKFace\\\\10_0_0_20170110224549512.jpg.chip.jpg', 'UTKFace\\\\10_0_0_20170110224725285.jpg.chip.jpg', 'UTKFace\\\\10_0_0_20170110224757882.jpg.chip.jpg', 'UTKFace\\\\10_0_0_20170110225013755.jpg.chip.jpg', 'UTKFace\\\\10_0_0_20170110225035898.jpg.chip.jpg', 'UTKFace\\\\10_0_0_20170110225227587.jpg.chip.jpg', 'UTKFace\\\\10_0_0_20170110225243501.jpg.chip.jpg', 'UTKFace\\\\10_0_0_20170110225246490.jpg.chip.jpg', 'UTKFace\\\\10_0_0_20170110225252799.jpg.chip.jpg', 'UTKFace\\\\10_0_0_20170110225402690.jpg.chip.jpg', 'UTKFace\\\\10_0_0_20170110225414790.jpg.chip.jpg', 'UTKFace\\\\10_0_0_20170110225417177.jpg.chip.jpg', 'UTKFace\\\\10_0_0_20170110225421531.jpg.chip.jpg', 'UTKFace\\\\10_0_0_20170110225442428.jpg.chip.jpg', 'UTKFace\\\\10_0_0_20170110225444491.jpg.chip.jpg', 'UTKFace\\\\10_0_0_20170110225451638.jpg.chip.jpg', 'UTKFace\\\\10_0_0_20170110225502403.jpg.chip.jpg', 'UTKFace\\\\10_0_0_20170110225505288.jpg.chip.jpg', 'UTKFace\\\\10_0_0_20170110225518663.jpg.chip.jpg', 'UTKFace\\\\10_0_0_20170110225528484.jpg.chip.jpg', 'UTKFace\\\\10_0_0_20170110225537307.jpg.chip.jpg', 'UTKFace\\\\10_0_0_20170110225546130.jpg.chip.jpg', 'UTKFace\\\\10_0_0_20170110225557604.jpg.chip.jpg', 'UTKFace\\\\10_0_0_20170110225601897.jpg.chip.jpg', 'UTKFace\\\\10_0_0_20170116201102149.jpg.chip.jpg', 'UTKFace\\\\10_0_0_20170116201328751.jpg.chip.jpg', 'UTKFace\\\\10_0_0_20170116201337172.jpg.chip.jpg', 'UTKFace\\\\10_0_0_20170117135444407.jpg.chip.jpg', 'UTKFace\\\\10_0_0_20170117143048181.jpg.chip.jpg', 'UTKFace\\\\10_0_0_20170117175625724.jpg.chip.jpg', 'UTKFace\\\\10_0_0_20170120220628194.jpg.chip.jpg', 'UTKFace\\\\10_0_1_20170104010841239.jpg.chip.jpg', 'UTKFace\\\\10_0_1_20170110220507258.jpg.chip.jpg', 'UTKFace\\\\10_0_1_20170110220523360.jpg.chip.jpg', 'UTKFace\\\\10_0_1_20170110223455893.jpg.chip.jpg', 'UTKFace\\\\10_0_1_20170110223848885.jpg.chip.jpg', 'UTKFace\\\\10_0_1_20170110225121326.jpg.chip.jpg', 'UTKFace\\\\10_0_1_20170110225339066.jpg.chip.jpg', 'UTKFace\\\\10_0_1_20170116225209209.jpg.chip.jpg', 'UTKFace\\\\10_0_2_20170110224230094.jpg.chip.jpg', 'UTKFace\\\\10_0_2_20170116162109013.jpg.chip.jpg', 'UTKFace\\\\10_0_3_20161220215952636.jpg.chip.jpg', 'UTKFace\\\\10_0_3_20170104225233504.jpg.chip.jpg', 'UTKFace\\\\10_0_3_20170104225238736.jpg.chip.jpg', 'UTKFace\\\\10_0_3_20170105175322885.jpg.chip.jpg']\n"
     ]
    }
   ],
   "source": [
    "pictures = glob('UTKFace/*.jpg')\n",
    "print(pictures[:100])"
   ]
  }
 ],
 "metadata": {
  "interpreter": {
   "hash": "eb4cdb330c5ea7232880705c0e79ad22649a7c708042624124f8ff95c4dc218f"
  },
  "kernelspec": {
   "display_name": "Python 3.7.0 64-bit",
   "language": "python",
   "name": "python3"
  },
  "language_info": {
   "codemirror_mode": {
    "name": "ipython",
    "version": 3
   },
   "file_extension": ".py",
   "mimetype": "text/x-python",
   "name": "python",
   "nbconvert_exporter": "python",
   "pygments_lexer": "ipython3",
   "version": "3.7.0"
  },
  "orig_nbformat": 4
 },
 "nbformat": 4,
 "nbformat_minor": 2
}
